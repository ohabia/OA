{
 "cells": [
  {
   "cell_type": "markdown",
   "metadata": {},
   "source": [
    "1. Code Question 1\n",
    "\n",
    "\n",
    "A list of unique product IDs needs to be extracted from a database of products\n",
    "available on Amazon's website. In the database, multiple versions of the\n",
    "products IDs exist such that the order of the characters varies (e.g, code and\n",
    "ecod are the same product). To create the unique list, all anagrams must be\n",
    "removed. Two strings are anagrams if they are permutations of each other. In\n",
    "other words, both strings have the same size and the same characters. For\n",
    "example, \"\"aaagmnrs\"\" is an anagram of \"anagrams\"\". Given an list of strings,\n",
    "remove each string that is an anagram of an earlier string, then return the\n",
    "remaining list in sorted order.\n",
    "\n",
    "\n",
    "Write an algorithm that returns a list of strings after removing anagram string\n",
    "in sorted order.\n",
    "\n",
    "\n",
    "Function Description\n",
    "Complete the function removeAnagram in the editor below.\n",
    "\n",
    "\n",
    "removeAnagram has the following parameter:\n",
    "\n",
    "textList, a list of strings representing product IDs.\n",
    "\n",
    "\n",
    "Returns\n",
    "\n",
    "String Array"
   ]
  },
  {
   "cell_type": "code",
   "execution_count": 44,
   "metadata": {},
   "outputs": [
    {
     "data": {
      "text/plain": [
       "['abc', 'code', 'frame', 'framer']"
      ]
     },
     "execution_count": 44,
     "metadata": {},
     "output_type": "execute_result"
    }
   ],
   "source": [
    "import collections\n",
    "test = [\"code\",\"doce\",\"abc\",\"cba\",\"bac\",\"framer\",\"frame\"]\n",
    "\n",
    "clt_ls = []\n",
    "res = []\n",
    "for i in test:\n",
    "  ct = collections.Counter(i)\n",
    "  ct = sorted(ct.items())\n",
    "  if not ct in clt_ls:\n",
    "    clt_ls.append(ct)\n",
    "    res.append(i)\n",
    "res = sorted(res)\n",
    "res"
   ]
  },
  {
   "cell_type": "markdown",
   "metadata": {},
   "source": [
    "2. Code Question 2\n",
    "A Supply Chain Manager at an Amazon warehouse\n",
    "is reviewing the logs of when trucks arrived at and\n",
    "departed from their warehouse. Please help them\n",
    "with their review by completing the following\n",
    "challenge: Given a collection of time intervals, [start,\n",
    "end, merge and return the overlapping intervals\n",
    "sorted in ascending order of their start times.\n",
    "\n",
    "Example\n",
    "\n",
    "intervals = [[7, 71, [2, 31, [6, 11), [1, 2]]\n",
    "The interval [1, 2] merges with [2, 3] while [7, 7]\n",
    "merges with [6, 11]. There are no more overlapping\n",
    "intervals. The answer is [[1, 3], [6, 11]]\n",
    "\n",
    "Function Description\n",
    "\n",
    "Complete the function getMergedintervals in the\n",
    "editor below.\n",
    "\n",
    "getMergedIntervals has the following parameter(s):\n",
    "int intervals[[n][2]): the time intervals\n",
    "\n",
    "Returns\n",
    "\n",
    "int[]2]: the merged intervals in sorted order\n",
    "\n",
    "Constraints\n",
    "\n",
    "1sns 10\n",
    "1s intervalsll2] 5 10\n",
    "\n",
    "intervals[ro] s intervalslij[1] for all ."
   ]
  },
  {
   "cell_type": "code",
   "execution_count": 53,
   "metadata": {},
   "outputs": [
    {
     "name": "stdout",
     "output_type": "stream",
     "text": [
      "[[1, 9]]\n",
      "[[1, 3], [6, 11]]\n"
     ]
    }
   ],
   "source": [
    "def mergeIntervals(arr):\n",
    "\n",
    "\tarr.sort(key=lambda x: x[0])\n",
    "\n",
    "\tindex = 0\n",
    "\n",
    "\tfor i in range(1, len(arr)):\n",
    "\n",
    "\t\tif (arr[index][1] >= arr[i][0]):\n",
    "\t\t\tarr[index][1] = max(arr[index][1], arr[i][1])\n",
    "\t\telse:\n",
    "\t\t\tindex = index + 1\n",
    "\t\t\tarr[index] = arr[i]\n",
    "\n",
    "\treturn(arr[:index+1])\n",
    "\n",
    "  \n",
    "\n",
    "\n",
    "# Driver code\n",
    "arr = [[6, 8], [1, 9], [2, 4], [4, 7]]\n",
    "intervals = [[7, 7], [2, 3], [6, 11], [1, 2]]\n",
    "print(mergeIntervals(arr))\n",
    "print(mergeIntervals(intervals))"
   ]
  },
  {
   "cell_type": "markdown",
   "metadata": {},
   "source": [
    "3. Code Question 1\n",
    "Your team at Amazon is building a quiz-style application to help\n",
    "students prepare for certification exams. Each quiz module tests one\n",
    "or more subjects and limits the number of answers students can\n",
    "provide. You have been asked to examine the impact of this limit on\n",
    "the ability of students to \"pass\" certain subjects within quiz modules.\n",
    "To do this, please review and solve for the following: Imagine a\n",
    "student has already answered answeredlil questions in each of the\n",
    "the subjects, and still has time to answer a total of q more\n",
    "questions overall. For each Fn subject, the number of questions\n",
    "answered has to be at least needed[li] in order to pass. Determine the\n",
    "maximum number of subjects the student can pass if the qadditional\n",
    "answered questions are optimally distributed among the subjects.\n",
    "\n",
    "1sns 10\n",
    "0s answeredlil, needed[il, qs 10\n",
    "\n",
    "Input Format For Custom Testing\n",
    "\n",
    "The first line contains an integer, n, the number of elements in\n",
    "answered, and the number of subjects.\n",
    "\n",
    "Each of the next n lines contains one integer, answeredli, the\n",
    "number questions already answered for the subject.\n",
    "\n",
    "The next line contains the integer, n, the number of subjects\n",
    "Each of the next n lines contains one integer, needed[il, the number\n",
    "of questions answered needed to pass the subject.\n",
    "\n",
    "The next line contains an integer, q, the total number of additional\n",
    "questions the student can answer acroOss all subjects."
   ]
  },
  {
   "cell_type": "code",
   "execution_count": 64,
   "metadata": {},
   "outputs": [
    {
     "name": "stdout",
     "output_type": "stream",
     "text": [
      "[-3, 0, 0, 1, 2, 6]\n"
     ]
    },
    {
     "data": {
      "text/plain": [
       "5"
      ]
     },
     "execution_count": 64,
     "metadata": {},
     "output_type": "execute_result"
    }
   ],
   "source": [
    "needed = [2,3,4,5,18,6]\n",
    "answered = [1,3,7,5,12,4]\n",
    "q = 3\n",
    "n = len(needed)\n",
    "left = [0] * n\n",
    "\n",
    "for i in range(n):\n",
    "  left[i] = needed[i] - answered[i]\n",
    "\n",
    "left = sorted(left)\n",
    "print(left)\n",
    "passed = 0\n",
    "for i in range(n):\n",
    "  if left[i] <= 0:\n",
    "    passed += 1\n",
    "  elif q >= left[i]:\n",
    "    q -= left[i]\n",
    "    passed += 1\n",
    "  else:\n",
    "    break\n",
    "\n",
    "passed"
   ]
  },
  {
   "cell_type": "markdown",
   "metadata": {},
   "source": [
    "4. Code Question 2\n",
    "You've been asked to help your teammate with the following\n",
    "assignment. Determine the factors of a number (i.e., all positive\n",
    "integer values that evenly divide into a number) and then return the\n",
    "p element of the list, sorted ascending. If there is no p\" element\n",
    "return 0.\n",
    "\n",
    "Example\n",
    "\n",
    "n 20\n",
    "\n",
    "p =3\n",
    "\n",
    "The factors of 20 in ascending order are (1, 2, 4 5, 10, 20). Using 1-\n",
    "based indexing, if p =3, then 4 is returned. If p > 6, 0 would be"
   ]
  },
  {
   "cell_type": "code",
   "execution_count": 73,
   "metadata": {},
   "outputs": [
    {
     "data": {
      "text/plain": [
       "4"
      ]
     },
     "execution_count": 73,
     "metadata": {},
     "output_type": "execute_result"
    }
   ],
   "source": [
    "n = 20\n",
    "p = 3\n",
    "\n",
    "def ith_factor(n,p):\n",
    "  factor = [[i, n//i] for i in range(1, int(n**0.5) + 1) if n % i == 0]\n",
    "  factor = sorted(sum(factor, []))\n",
    "  if p > len(factor):\n",
    "    return 0\n",
    "  else:\n",
    "    return(factor[p-1])\n",
    "\n",
    "ith_factor(20,3)"
   ]
  },
  {
   "cell_type": "markdown",
   "metadata": {},
   "source": [
    "\n",
    "\n",
    "\n",
    "https://assets.leetcode.com/users/images/b2d78610-ec5a-4130-b798-41375791c8ee_1647994025.476528.png"
   ]
  },
  {
   "cell_type": "code",
   "execution_count": 90,
   "metadata": {},
   "outputs": [],
   "source": [
    "def droppedRequests(requestTime):\n",
    "  requestDrop = 0\n",
    "  request01 = []\n",
    "  request10 = []\n",
    "  request60 = []\n",
    "\n",
    "  for i in range(len(requestTime)):\n",
    "    currRequest = requestTime[i]\n",
    "\n",
    "    currTime = currRequest\n",
    "    pre01 = max(currTime - 1, 1)\n",
    "    pre10 = max(currTime - 9, 1)\n",
    "    pre60 = max(currTime - 59, 1)\n",
    "\n",
    "    drop01, drop10, drop60 = False, False, False\n",
    "\n",
    "    while request01 and request01[0] < currTime:\n",
    "      request01.pop(0)\n",
    "    while request10 and request10[0] < pre10:\n",
    "      request10.pop(0)\n",
    "    while request60 and request60[0] < pre60:\n",
    "      request60.pop(0)\n",
    "    \n",
    "    request01.append(currRequest)\n",
    "    request10.append(currRequest)\n",
    "    request60.append(currRequest)\n",
    "\n",
    "    if len(request01) > 3:\n",
    "      drop01 = True\n",
    "    if len(request10) > 20:\n",
    "      drop10 = True\n",
    "    if len(request60) > 60:\n",
    "      drop60 = True\n",
    "    \n",
    "    if drop01 or drop10 or drop60:\n",
    "      requestDrop += 1\n",
    "  \n",
    "  return requestDrop"
   ]
  },
  {
   "cell_type": "code",
   "execution_count": 104,
   "metadata": {},
   "outputs": [],
   "source": [
    "a = [1,2,3,4]\n",
    "a[1:3] = a[2:0:-1]"
   ]
  },
  {
   "cell_type": "code",
   "execution_count": 105,
   "metadata": {},
   "outputs": [
    {
     "data": {
      "text/plain": [
       "[1, 3, 2, 4]"
      ]
     },
     "execution_count": 105,
     "metadata": {},
     "output_type": "execute_result"
    }
   ],
   "source": [
    "a"
   ]
  },
  {
   "cell_type": "code",
   "execution_count": 91,
   "metadata": {},
   "outputs": [
    {
     "name": "stdout",
     "output_type": "stream",
     "text": [
      "1\n",
      "7\n",
      "7\n",
      "7\n",
      "11\n",
      "11\n",
      "11\n"
     ]
    },
    {
     "data": {
      "text/plain": [
       "7"
      ]
     },
     "execution_count": 91,
     "metadata": {},
     "output_type": "execute_result"
    }
   ],
   "source": [
    "droppedRequests([1,1,1,1,2,2,2,3,3,3,4,4,4,5,5,5,6,6,6,7,7,7,7,11,11,11,11])"
   ]
  }
 ],
 "metadata": {
  "interpreter": {
   "hash": "7c66465e8aa327e700229769d07311958e4445caad84227084311a3d17f53d43"
  },
  "kernelspec": {
   "display_name": "Python 3.9.7 ('base')",
   "language": "python",
   "name": "python3"
  },
  "language_info": {
   "codemirror_mode": {
    "name": "ipython",
    "version": 3
   },
   "file_extension": ".py",
   "mimetype": "text/x-python",
   "name": "python",
   "nbconvert_exporter": "python",
   "pygments_lexer": "ipython3",
   "version": "3.9.7"
  },
  "orig_nbformat": 4
 },
 "nbformat": 4,
 "nbformat_minor": 2
}
